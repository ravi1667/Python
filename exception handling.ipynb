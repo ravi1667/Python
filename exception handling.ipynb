{
 "cells": [
  {
   "cell_type": "code",
   "execution_count": 3,
   "id": "ed264583",
   "metadata": {},
   "outputs": [
    {
     "name": "stdout",
     "output_type": "stream",
     "text": [
      "error occured in first block division by zero\n",
      "ravi's python\n"
     ]
    }
   ],
   "source": [
    "try:\n",
    "    a=1/0\n",
    "    print(a)\n",
    "except Exception as e:\n",
    "    print(\"error occured in first block\",e)\n",
    "try:\n",
    "    print(\"ravi's python\")\n",
    "except:\n",
    "    print(\"error occured in second block\")"
   ]
  },
  {
   "cell_type": "code",
   "execution_count": 5,
   "id": "4667282c",
   "metadata": {},
   "outputs": [
    {
     "name": "stdout",
     "output_type": "stream",
     "text": [
      "enter your nameragul\n",
      "no errors raised\n"
     ]
    }
   ],
   "source": [
    "name=input(\"enter your name\")\n",
    "if(name=='ravi'):\n",
    "    raise Exception(\"ravi error\")\n",
    "print(\"no errors raised\")"
   ]
  },
  {
   "cell_type": "code",
   "execution_count": null,
   "id": "9a21a515",
   "metadata": {},
   "outputs": [],
   "source": []
  },
  {
   "cell_type": "code",
   "execution_count": null,
   "id": "f06e879c",
   "metadata": {},
   "outputs": [],
   "source": []
  }
 ],
 "metadata": {
  "kernelspec": {
   "display_name": "Python 3 (ipykernel)",
   "language": "python",
   "name": "python3"
  },
  "language_info": {
   "codemirror_mode": {
    "name": "ipython",
    "version": 3
   },
   "file_extension": ".py",
   "mimetype": "text/x-python",
   "name": "python",
   "nbconvert_exporter": "python",
   "pygments_lexer": "ipython3",
   "version": "3.11.2"
  }
 },
 "nbformat": 4,
 "nbformat_minor": 5
}
