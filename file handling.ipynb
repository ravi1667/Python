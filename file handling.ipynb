{
 "cells": [
  {
   "cell_type": "code",
   "execution_count": 1,
   "id": "06a64dcc",
   "metadata": {},
   "outputs": [],
   "source": [
    "f=open(\"ravi.txt\",\"r\")\n",
    "k=f.read()\n",
    "f.close()"
   ]
  },
  {
   "cell_type": "code",
   "execution_count": 2,
   "id": "3c5925db",
   "metadata": {},
   "outputs": [
    {
     "name": "stdout",
     "output_type": "stream",
     "text": [
      "ravi\n",
      "this is new test\n"
     ]
    }
   ],
   "source": [
    "print(k)"
   ]
  },
  {
   "cell_type": "code",
   "execution_count": 3,
   "id": "4a9e4c29",
   "metadata": {},
   "outputs": [],
   "source": [
    "g=open(\"ravi.txt\",'a')\n",
    "g.write(\"data science\\n Janaury 2023\")\n",
    "g.close()"
   ]
  },
  {
   "cell_type": "code",
   "execution_count": 4,
   "id": "d69a6526",
   "metadata": {},
   "outputs": [],
   "source": [
    "g=open(\"ravi.txt\",'w')\n",
    "g.write(\"data science\\n Janaury 2023\")\n",
    "g.close()"
   ]
  },
  {
   "cell_type": "code",
   "execution_count": 6,
   "id": "4901e893",
   "metadata": {},
   "outputs": [],
   "source": [
    "t=open('ravii.doc','w')\n",
    "t.write(\"this is a new file created at\\n Janaury 2023\")\n",
    "t.close()"
   ]
  },
  {
   "cell_type": "code",
   "execution_count": 1,
   "id": "21a5f38b",
   "metadata": {},
   "outputs": [],
   "source": [
    "import cv2"
   ]
  },
  {
   "cell_type": "code",
   "execution_count": 2,
   "id": "25d6f0a1",
   "metadata": {},
   "outputs": [],
   "source": []
  },
  {
   "cell_type": "code",
   "execution_count": 16,
   "id": "13e89bfc",
   "metadata": {},
   "outputs": [],
   "source": [
    "img=cv2.imread('forest.jpg')\n",
    "cv2.putText(img,\"forest\",(300,300),cv2.FONT_HERSHEY_SIMPLEX,7,(255,255,255),3)\n",
    "cv2.imwrite('new forest.jpg',img)\n",
    "cv2.imshow('mywindow',img)\n",
    "cv2.waitKey(0)\n",
    "cv2.destroyAllWindows()"
   ]
  },
  {
   "cell_type": "code",
   "execution_count": null,
   "id": "c50c2934",
   "metadata": {},
   "outputs": [],
   "source": []
  },
  {
   "cell_type": "code",
   "execution_count": null,
   "id": "4e62208d",
   "metadata": {},
   "outputs": [],
   "source": []
  },
  {
   "cell_type": "code",
   "execution_count": null,
   "id": "f87856bb",
   "metadata": {},
   "outputs": [],
   "source": []
  },
  {
   "cell_type": "code",
   "execution_count": null,
   "id": "3fc31684",
   "metadata": {},
   "outputs": [],
   "source": []
  },
  {
   "cell_type": "code",
   "execution_count": null,
   "id": "4f0d01b8",
   "metadata": {},
   "outputs": [],
   "source": []
  },
  {
   "cell_type": "code",
   "execution_count": null,
   "id": "419b1cd2",
   "metadata": {},
   "outputs": [],
   "source": []
  }
 ],
 "metadata": {
  "kernelspec": {
   "display_name": "Python 3 (ipykernel)",
   "language": "python",
   "name": "python3"
  },
  "language_info": {
   "codemirror_mode": {
    "name": "ipython",
    "version": 3
   },
   "file_extension": ".py",
   "mimetype": "text/x-python",
   "name": "python",
   "nbconvert_exporter": "python",
   "pygments_lexer": "ipython3",
   "version": "3.11.2"
  }
 },
 "nbformat": 4,
 "nbformat_minor": 5
}
