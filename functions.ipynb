{
 "cells": [
  {
   "cell_type": "code",
   "execution_count": 1,
   "id": "6baee87a",
   "metadata": {},
   "outputs": [],
   "source": [
    "def fun():\n",
    "    print(\"hello I am a function\")\n",
    "    "
   ]
  },
  {
   "cell_type": "code",
   "execution_count": 3,
   "id": "c5dc759c",
   "metadata": {},
   "outputs": [
    {
     "name": "stdout",
     "output_type": "stream",
     "text": [
      "good afternoon\n",
      "hello I am a function\n",
      "bye\n"
     ]
    }
   ],
   "source": [
    "print(\"good afternoon\")\n",
    "fun()\n",
    "print(\"bye\")"
   ]
  },
  {
   "cell_type": "code",
   "execution_count": 4,
   "id": "cc401471",
   "metadata": {},
   "outputs": [],
   "source": [
    "def intro(name):\n",
    "    print(\"hello my name is\",name)\n",
    "    print(\"what is your name\")\n"
   ]
  },
  {
   "cell_type": "code",
   "execution_count": 5,
   "id": "07274818",
   "metadata": {},
   "outputs": [
    {
     "name": "stdout",
     "output_type": "stream",
     "text": [
      "hello who are you\n",
      "hello my name is abhi\n",
      "what is your name\n"
     ]
    }
   ],
   "source": [
    "print(\"hello who are you\")\n",
    "intro(name=\"abhi\")\n"
   ]
  },
  {
   "cell_type": "code",
   "execution_count": null,
   "id": "7e682142",
   "metadata": {},
   "outputs": [],
   "source": [
    "def prime(a,b):\n",
    "    if(b>=a)\n",
    "    return True"
   ]
  },
  {
   "cell_type": "code",
   "execution_count": null,
   "id": "7e714e3c",
   "metadata": {},
   "outputs": [],
   "source": [
    "k=int(input(\"enter the number\"))\n",
    "prime(k,2)\n",
    "if(p):\n",
    "    print(k,\"is a prime number\")\n",
    "else:\n",
    "    print(k,\"is a composite number\")"
   ]
  },
  {
   "cell_type": "code",
   "execution_count": 12,
   "id": "ee56bd70",
   "metadata": {},
   "outputs": [],
   "source": [
    "def recursive_factorial(n):\n",
    "    if n==1:\n",
    "        return n\n",
    "    else:\n",
    "        return n*recursive_factorial(n-1) "
   ]
  },
  {
   "cell_type": "code",
   "execution_count": 13,
   "id": "ca7b88f4",
   "metadata": {},
   "outputs": [
    {
     "name": "stdout",
     "output_type": "stream",
     "text": [
      "User input : 5\n",
      "The factorial of 5 is 120\n"
     ]
    }
   ],
   "source": [
    "number = int(input(\"User input : \"))\n",
    "if number < 0:\n",
    "  print(\"Bad Input\")\n",
    "else:\n",
    "  print(\"The factorial of\", number, \"is\", recursive_factorial(number))"
   ]
  },
  {
   "cell_type": "code",
   "execution_count": null,
   "id": "1bec13be",
   "metadata": {},
   "outputs": [],
   "source": [
    "def fibonacci(n):\n",
    "    if n <= 1:\n",
    "        return n\n",
    "    else:\n",
    "        return (fibonacci(n-1) + fibonacci(n-2))"
   ]
  },
  {
   "cell_type": "code",
   "execution_count": null,
   "id": "e4458db9",
   "metadata": {},
   "outputs": [],
   "source": [
    "n = int(input(\"Enter the number of terms you want to print: \"))\n",
    "if n <= 0:\n",
    "    print(\"Please enter a positive integer.\")\n",
    "else:\n",
    "    print(\"Fibonacci sequence:\")\n",
    "    for i in range(n):\n",
    "        print(fibonacci(i))"
   ]
  },
  {
   "cell_type": "code",
   "execution_count": 2,
   "id": "0bc5cadb",
   "metadata": {},
   "outputs": [
    {
     "ename": "NameError",
     "evalue": "name 'cv2' is not defined",
     "output_type": "error",
     "traceback": [
      "\u001b[1;31m---------------------------------------------------------------------------\u001b[0m",
      "\u001b[1;31mNameError\u001b[0m                                 Traceback (most recent call last)",
      "Cell \u001b[1;32mIn[2], line 1\u001b[0m\n\u001b[1;32m----> 1\u001b[0m vid\u001b[38;5;241m=\u001b[39m\u001b[43mcv2\u001b[49m\u001b[38;5;241m.\u001b[39mVideoCapture(\u001b[38;5;124m\"\u001b[39m\u001b[38;5;124mdna.mp4\u001b[39m\u001b[38;5;124m\"\u001b[39m)\n\u001b[0;32m      2\u001b[0m \u001b[38;5;28;01mwhile\u001b[39;00m(vid\u001b[38;5;241m.\u001b[39misOpened()):\n\u001b[0;32m      3\u001b[0m     flag,frame\u001b[38;5;241m=\u001b[39mvid\u001b[38;5;241m.\u001b[39mread()\n",
      "\u001b[1;31mNameError\u001b[0m: name 'cv2' is not defined"
     ]
    }
   ],
   "source": [
    "vid=cv2.VideoCapture(\"dna.mp4\")\n",
    "while(vid.isOpened()):\n",
    "    flag,frame=vid.read()\n",
    "    if(flag):\n",
    "        cv2.namedWindow('Mywindow',cv2.WINDOW_NORMAL)\n",
    "        cv2.imshow('mywindow',frame)\n",
    "        cv2.waitKey(0)\n",
    "    else:\n",
    "        break\n",
    "cv2.destroyAllWindows()"
   ]
  },
  {
   "cell_type": "code",
   "execution_count": null,
   "id": "f0765eb1",
   "metadata": {},
   "outputs": [],
   "source": []
  }
 ],
 "metadata": {
  "kernelspec": {
   "display_name": "Python 3 (ipykernel)",
   "language": "python",
   "name": "python3"
  },
  "language_info": {
   "codemirror_mode": {
    "name": "ipython",
    "version": 3
   },
   "file_extension": ".py",
   "mimetype": "text/x-python",
   "name": "python",
   "nbconvert_exporter": "python",
   "pygments_lexer": "ipython3",
   "version": "3.11.3"
  }
 },
 "nbformat": 4,
 "nbformat_minor": 5
}
