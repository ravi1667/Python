{
 "cells": [
  {
   "cell_type": "code",
   "execution_count": 3,
   "id": "9df72f47",
   "metadata": {},
   "outputs": [],
   "source": [
    "from email.message import EmailMessage"
   ]
  },
  {
   "cell_type": "code",
   "execution_count": 4,
   "id": "ee6e988b",
   "metadata": {},
   "outputs": [],
   "source": [
    "newmail=EmailMessage()\n",
    "newmail['To']='ravinaren23@gmail.com'\n",
    "newmail['Subject']=\"Mail sent using Python\"\n",
    "newmail.set_content(\"December 23, 2023 21:07AM\")"
   ]
  },
  {
   "cell_type": "code",
   "execution_count": 5,
   "id": "8a415b8c",
   "metadata": {},
   "outputs": [
    {
     "data": {
      "text/plain": [
       "'To: ravinaren23@gmail.com\\nSubject: Mail sent using Python\\nContent-Type: text/plain; charset=\"utf-8\"\\nContent-Transfer-Encoding: 7bit\\nMIME-Version: 1.0\\n\\nDecember 23, 2023 21:07AM\\n'"
      ]
     },
     "execution_count": 5,
     "metadata": {},
     "output_type": "execute_result"
    }
   ],
   "source": [
    "newmail.as_string()"
   ]
  },
  {
   "cell_type": "code",
   "execution_count": 6,
   "id": "0b4e1ee2",
   "metadata": {},
   "outputs": [],
   "source": [
    "b=newmail.as_bytes()"
   ]
  },
  {
   "cell_type": "code",
   "execution_count": 7,
   "id": "3c67a3e1",
   "metadata": {},
   "outputs": [
    {
     "data": {
      "text/plain": [
       "b'To: ravinaren23@gmail.com\\nSubject: Mail sent using Python\\nContent-Type: text/plain; charset=\"utf-8\"\\nContent-Transfer-Encoding: 7bit\\nMIME-Version: 1.0\\n\\nDecember 23, 2023 21:07AM\\n'"
      ]
     },
     "execution_count": 7,
     "metadata": {},
     "output_type": "execute_result"
    }
   ],
   "source": [
    "b"
   ]
  },
  {
   "cell_type": "code",
   "execution_count": 8,
   "id": "c935f143",
   "metadata": {},
   "outputs": [],
   "source": [
    "import base64"
   ]
  },
  {
   "cell_type": "code",
   "execution_count": 9,
   "id": "eaf92e2c",
   "metadata": {},
   "outputs": [],
   "source": [
    "d=base64.urlsafe_b64encode(b)"
   ]
  },
  {
   "cell_type": "code",
   "execution_count": 11,
   "id": "84ce0e43",
   "metadata": {},
   "outputs": [
    {
     "data": {
      "text/plain": [
       "b'VG86IHJhdmluYXJlbjIzQGdtYWlsLmNvbQpTdWJqZWN0OiBNYWlsIHNlbnQgdXNpbmcgUHl0aG9uCkNvbnRlbnQtVHlwZTogdGV4dC9wbGFpbjsgY2hhcnNldD0idXRmLTgiCkNvbnRlbnQtVHJhbnNmZXItRW5jb2Rpbmc6IDdiaXQKTUlNRS1WZXJzaW9uOiAxLjAKCkRlY2VtYmVyIDIzLCAyMDIzIDIxOjA3QU0K'"
      ]
     },
     "execution_count": 11,
     "metadata": {},
     "output_type": "execute_result"
    }
   ],
   "source": [
    "d"
   ]
  },
  {
   "cell_type": "code",
   "execution_count": 10,
   "id": "f8b31f41",
   "metadata": {},
   "outputs": [],
   "source": [
    "data=d.decode()"
   ]
  },
  {
   "cell_type": "code",
   "execution_count": 11,
   "id": "de83eb05",
   "metadata": {},
   "outputs": [],
   "source": [
    "finalmail={'raw':data}"
   ]
  },
  {
   "cell_type": "code",
   "execution_count": 12,
   "id": "8bf45eb1",
   "metadata": {},
   "outputs": [],
   "source": [
    "from google_auth_oauthlib.flow import InstalledAppFlow"
   ]
  },
  {
   "cell_type": "code",
   "execution_count": 13,
   "id": "84be8d5a",
   "metadata": {},
   "outputs": [],
   "source": [
    "f=InstalledAppFlow.from_client_secrets_file('key.json',['https://mail.google.com/'])"
   ]
  },
  {
   "cell_type": "code",
   "execution_count": 14,
   "id": "2cffa3c4",
   "metadata": {},
   "outputs": [
    {
     "name": "stdout",
     "output_type": "stream",
     "text": [
      "Please visit this URL to authorize this application: https://accounts.google.com/o/oauth2/auth?response_type=code&client_id=811667452029-captjn7o4bkipv8gcv9l7hq83jdq5anh.apps.googleusercontent.com&redirect_uri=http%3A%2F%2Flocalhost%3A60293%2F&scope=https%3A%2F%2Fmail.google.com%2F&state=eeJBt9Hqbj1A5TLbIu50Px4lE2TvxJ&access_type=offline\n"
     ]
    }
   ],
   "source": [
    "cred=f.run_local_server(port=0)"
   ]
  },
  {
   "cell_type": "code",
   "execution_count": 15,
   "id": "9983aaed",
   "metadata": {},
   "outputs": [],
   "source": [
    "from googleapiclient.discovery import build"
   ]
  },
  {
   "cell_type": "code",
   "execution_count": 18,
   "id": "b555182b",
   "metadata": {},
   "outputs": [],
   "source": [
    "service=build('Gmail','v1',credentials=cred).users().messages()"
   ]
  },
  {
   "cell_type": "code",
   "execution_count": 19,
   "id": "30c1b6a6",
   "metadata": {},
   "outputs": [
    {
     "data": {
      "text/plain": [
       "{'id': '18711cee48e4aef6',\n",
       " 'threadId': '18711cee48e4aef6',\n",
       " 'labelIds': ['SENT']}"
      ]
     },
     "execution_count": 19,
     "metadata": {},
     "output_type": "execute_result"
    }
   ],
   "source": [
    "service.send(userId=\"raviofficial54@gmail.com\",body=finalmail).execute()"
   ]
  },
  {
   "cell_type": "code",
   "execution_count": null,
   "id": "8d0034db",
   "metadata": {},
   "outputs": [],
   "source": []
  }
 ],
 "metadata": {
  "kernelspec": {
   "display_name": "Python 3 (ipykernel)",
   "language": "python",
   "name": "python3"
  },
  "language_info": {
   "codemirror_mode": {
    "name": "ipython",
    "version": 3
   },
   "file_extension": ".py",
   "mimetype": "text/x-python",
   "name": "python",
   "nbconvert_exporter": "python",
   "pygments_lexer": "ipython3",
   "version": "3.11.3"
  }
 },
 "nbformat": 4,
 "nbformat_minor": 5
}
