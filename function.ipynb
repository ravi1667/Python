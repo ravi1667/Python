{
 "cells": [
  {
   "cell_type": "code",
   "execution_count": 1,
   "id": "6dd90b02",
   "metadata": {},
   "outputs": [],
   "source": [
    "class human:\n",
    "    name=\"\"\n",
    "    age=0\n",
    "    gender=\"\""
   ]
  },
  {
   "cell_type": "code",
   "execution_count": 2,
   "id": "6cef8db6",
   "metadata": {},
   "outputs": [],
   "source": [
    "h1=human()"
   ]
  },
  {
   "cell_type": "code",
   "execution_count": 3,
   "id": "1315a856",
   "metadata": {},
   "outputs": [
    {
     "name": "stdout",
     "output_type": "stream",
     "text": [
      "\n"
     ]
    }
   ],
   "source": [
    "print(h1.name)"
   ]
  },
  {
   "cell_type": "code",
   "execution_count": 4,
   "id": "289c9900",
   "metadata": {},
   "outputs": [
    {
     "name": "stdout",
     "output_type": "stream",
     "text": [
      "enter your nameaman\n"
     ]
    }
   ],
   "source": [
    "h1.name=input(\"enter your name\")"
   ]
  },
  {
   "cell_type": "code",
   "execution_count": 5,
   "id": "ac11ce68",
   "metadata": {},
   "outputs": [
    {
     "name": "stdout",
     "output_type": "stream",
     "text": [
      "aman\n"
     ]
    }
   ],
   "source": [
    "print(h1.name)"
   ]
  },
  {
   "cell_type": "code",
   "execution_count": 6,
   "id": "93fc9067",
   "metadata": {},
   "outputs": [
    {
     "name": "stdout",
     "output_type": "stream",
     "text": [
      "enter your age32\n"
     ]
    }
   ],
   "source": [
    "h1.age=int(input(\"enter your age\"))"
   ]
  },
  {
   "cell_type": "code",
   "execution_count": 7,
   "id": "14e7f1e8",
   "metadata": {},
   "outputs": [
    {
     "name": "stdout",
     "output_type": "stream",
     "text": [
      "enter gendermale\n"
     ]
    }
   ],
   "source": [
    "h1.gender=input(\"enter gender\")"
   ]
  },
  {
   "cell_type": "code",
   "execution_count": 9,
   "id": "e3690241",
   "metadata": {},
   "outputs": [
    {
     "name": "stdout",
     "output_type": "stream",
     "text": [
      "name aman\n",
      "name 32\n",
      "name male\n"
     ]
    }
   ],
   "source": [
    "print(\"name\",h1.name)\n",
    "print(\"name\",h1.age)\n",
    "print(\"name\",h1.gender)"
   ]
  },
  {
   "cell_type": "code",
   "execution_count": 12,
   "id": "c21cf451",
   "metadata": {},
   "outputs": [],
   "source": [
    "class human:\n",
    "    name=\"\"\n",
    "    age=0\n",
    "    gender=\"\"\n",
    "    \n",
    "    def getdata(self):\n",
    "        self.age=int(input(\"enter your age\"))\n",
    "        \n",
    "    def display(self):\n",
    "        print(\"age\",self.age)"
   ]
  },
  {
   "cell_type": "code",
   "execution_count": 13,
   "id": "46855655",
   "metadata": {},
   "outputs": [],
   "source": [
    "h3=human()"
   ]
  },
  {
   "cell_type": "code",
   "execution_count": 14,
   "id": "be0e0b19",
   "metadata": {},
   "outputs": [
    {
     "name": "stdout",
     "output_type": "stream",
     "text": [
      "enter your age55\n"
     ]
    }
   ],
   "source": [
    "h3.getdata()"
   ]
  },
  {
   "cell_type": "code",
   "execution_count": 15,
   "id": "92dffa97",
   "metadata": {},
   "outputs": [
    {
     "name": "stdout",
     "output_type": "stream",
     "text": [
      "age 55\n"
     ]
    }
   ],
   "source": [
    "h3.display()"
   ]
  },
  {
   "cell_type": "code",
   "execution_count": 1,
   "id": "16580f02",
   "metadata": {},
   "outputs": [],
   "source": [
    "class human:\n",
    "    name=\"\"\n",
    "    age=0\n",
    "    gender=\"\"\n",
    "    \n",
    "    def __init__(self):\n",
    "        self.age=int(input(\"enter your age\"))\n",
    "        \n",
    "    def display(self):\n",
    "        print(\"age\",self.age)"
   ]
  },
  {
   "cell_type": "code",
   "execution_count": 2,
   "id": "92afc229",
   "metadata": {},
   "outputs": [
    {
     "name": "stdout",
     "output_type": "stream",
     "text": [
      "enter your age56\n"
     ]
    }
   ],
   "source": [
    "h5=human()"
   ]
  },
  {
   "cell_type": "code",
   "execution_count": 3,
   "id": "c986bdc0",
   "metadata": {},
   "outputs": [],
   "source": [
    "class intro:\n",
    "    def __init__(self,n,b):\n",
    "        print(\"hello my name is\",n,\"and I am\",b,\"years old\")"
   ]
  },
  {
   "cell_type": "code",
   "execution_count": 4,
   "id": "2acaef0d",
   "metadata": {},
   "outputs": [
    {
     "name": "stdout",
     "output_type": "stream",
     "text": [
      "hello my name is gagan and I am 33 years old\n"
     ]
    }
   ],
   "source": [
    "h=intro(n=\"gagan\",b=33)"
   ]
  },
  {
   "cell_type": "code",
   "execution_count": 11,
   "id": "74d16001",
   "metadata": {},
   "outputs": [],
   "source": [
    "class employee:\n",
    "    name=\"\"\n",
    "    age=0\n",
    "    salary=0\n",
    "    \n",
    "    def __init__(self):\n",
    "        self.name=input(\"enter your name\")\n",
    "        self.age=int(input(\"enter your age\"))\n",
    "        self.salary=int(input(\"enter your salary\"))\n",
    "    def display(self):\n",
    "        print(\"age\",self.age)\n",
    "        print(\"name\",self.name)\n",
    "        print(\"salary\",self.salary)"
   ]
  },
  {
   "cell_type": "code",
   "execution_count": 9,
   "id": "c26dab66",
   "metadata": {},
   "outputs": [
    {
     "name": "stdout",
     "output_type": "stream",
     "text": [
      "Enter student name (or 'quit' to exit): ravi\n",
      "Enter student age: 23\n",
      "Enter student marks: 34\n"
     ]
    },
    {
     "ename": "TypeError",
     "evalue": "Student() takes no arguments",
     "output_type": "error",
     "traceback": [
      "\u001b[1;31m---------------------------------------------------------------------------\u001b[0m",
      "\u001b[1;31mTypeError\u001b[0m                                 Traceback (most recent call last)",
      "Cell \u001b[1;32mIn[9], line 13\u001b[0m\n\u001b[0;32m     11\u001b[0m age \u001b[38;5;241m=\u001b[39m \u001b[38;5;28mint\u001b[39m(\u001b[38;5;28minput\u001b[39m(\u001b[38;5;124m\"\u001b[39m\u001b[38;5;124mEnter student age: \u001b[39m\u001b[38;5;124m\"\u001b[39m))\n\u001b[0;32m     12\u001b[0m marks \u001b[38;5;241m=\u001b[39m \u001b[38;5;28mfloat\u001b[39m(\u001b[38;5;28minput\u001b[39m(\u001b[38;5;124m\"\u001b[39m\u001b[38;5;124mEnter student marks: \u001b[39m\u001b[38;5;124m\"\u001b[39m))\n\u001b[1;32m---> 13\u001b[0m Student \u001b[38;5;241m=\u001b[39m \u001b[43mStudent\u001b[49m\u001b[43m(\u001b[49m\u001b[43mname\u001b[49m\u001b[43m,\u001b[49m\u001b[43mage\u001b[49m\u001b[43m,\u001b[49m\u001b[43mmarks\u001b[49m\u001b[43m)\u001b[49m\n\u001b[0;32m     14\u001b[0m \u001b[38;5;28mprint\u001b[39m(Student\u001b[38;5;241m.\u001b[39mname,Student\u001b[38;5;241m.\u001b[39mage,Student\u001b[38;5;241m.\u001b[39mmarks)\n",
      "\u001b[1;31mTypeError\u001b[0m: Student() takes no arguments"
     ]
    }
   ],
   "source": [
    "class Student:\n",
    "    def _init_(self, name, age, marks):\n",
    "        self.name = name\n",
    "        self.age = age\n",
    "        self.marks = marks\n",
    "\n",
    "while True:\n",
    "    name = input(\"Enter student name (or 'quit' to exit): \")\n",
    "    if name == 'quit':\n",
    "        break\n",
    "    age = int(input(\"Enter student age: \"))\n",
    "    marks = float(input(\"Enter student marks: \"))\n",
    "    Student = Student(name,age,marks)\n",
    "    print(Student.name,Student.age,Student.marks)"
   ]
  },
  {
   "cell_type": "code",
   "execution_count": null,
   "id": "80c2686a",
   "metadata": {},
   "outputs": [
    {
     "name": "stdout",
     "output_type": "stream",
     "text": [
      "Enter student name: ravi\n",
      "Enter student age: 23\n",
      "Enter student marks: 34\n",
      "Enter student name: 45\n",
      "Enter student age: 56\n",
      "Enter student marks: 67\n",
      "Enter student name: quit\n",
      "Enter student age: 34\n",
      "Enter student marks: 45\n"
     ]
    }
   ],
   "source": [
    "class stu:\n",
    "    def __init__(self, name, age, marks):\n",
    "        self.name = name\n",
    "        self.age = age\n",
    "        self.marks = marks\n",
    "\n",
    "while True:\n",
    "    name = input(\"Enter student name: \")\n",
    "    age = int(input(\"Enter student age: \"))\n",
    "    marks = float(input(\"Enter student marks: \"))\n",
    "    \n",
    "    student = stu(name, age, marks)\n"
   ]
  },
  {
   "cell_type": "code",
   "execution_count": 2,
   "id": "a7b41341",
   "metadata": {},
   "outputs": [],
   "source": [
    "class Bus:\n",
    "    def __init__(self, passenger_name, age, distance):\n",
    "        self.passenger_name = passenger_name\n",
    "        self.age = age\n",
    "        self.distance = Distance\n",
    "        self.fare = self.calculate_fare()\n",
    "\n",
    "    def calculate_fare(self):\n",
    "        if self.age>18:\n",
    "            return self.distance*5\n",
    "        else:\n",
    "            return self.distance*3"
   ]
  },
  {
   "cell_type": "code",
   "execution_count": 4,
   "id": "1e3febb2",
   "metadata": {},
   "outputs": [
    {
     "ename": "NameError",
     "evalue": "name 'Distance' is not defined",
     "output_type": "error",
     "traceback": [
      "\u001b[1;31m---------------------------------------------------------------------------\u001b[0m",
      "\u001b[1;31mNameError\u001b[0m                                 Traceback (most recent call last)",
      "Cell \u001b[1;32mIn[4], line 1\u001b[0m\n\u001b[1;32m----> 1\u001b[0m bus2\u001b[38;5;241m=\u001b[39m\u001b[43mBus\u001b[49m\u001b[43m(\u001b[49m\u001b[38;5;124;43m\"\u001b[39;49m\u001b[38;5;124;43mravi\u001b[39;49m\u001b[38;5;124;43m\"\u001b[39;49m\u001b[43m,\u001b[49m\u001b[38;5;241;43m20\u001b[39;49m\u001b[43m,\u001b[49m\u001b[38;5;241;43m10\u001b[39;49m\u001b[43m)\u001b[49m\n",
      "Cell \u001b[1;32mIn[2], line 5\u001b[0m, in \u001b[0;36mBus.__init__\u001b[1;34m(self, passenger_name, age, distance)\u001b[0m\n\u001b[0;32m      3\u001b[0m \u001b[38;5;28mself\u001b[39m\u001b[38;5;241m.\u001b[39mpassenger_name \u001b[38;5;241m=\u001b[39m passenger_name\n\u001b[0;32m      4\u001b[0m \u001b[38;5;28mself\u001b[39m\u001b[38;5;241m.\u001b[39mage \u001b[38;5;241m=\u001b[39m age\n\u001b[1;32m----> 5\u001b[0m \u001b[38;5;28mself\u001b[39m\u001b[38;5;241m.\u001b[39mdistance \u001b[38;5;241m=\u001b[39m \u001b[43mDistance\u001b[49m\n\u001b[0;32m      6\u001b[0m \u001b[38;5;28mself\u001b[39m\u001b[38;5;241m.\u001b[39mfare \u001b[38;5;241m=\u001b[39m \u001b[38;5;28mself\u001b[39m\u001b[38;5;241m.\u001b[39mcalculate_fare()\n",
      "\u001b[1;31mNameError\u001b[0m: name 'Distance' is not defined"
     ]
    }
   ],
   "source": [
    "bus2=Bus(\"ravi\",20,10)"
   ]
  },
  {
   "cell_type": "code",
   "execution_count": 1,
   "id": "c6d02a00",
   "metadata": {},
   "outputs": [
    {
     "ename": "NameError",
     "evalue": "name 'bus2' is not defined",
     "output_type": "error",
     "traceback": [
      "\u001b[1;31m---------------------------------------------------------------------------\u001b[0m",
      "\u001b[1;31mNameError\u001b[0m                                 Traceback (most recent call last)",
      "Cell \u001b[1;32mIn[1], line 1\u001b[0m\n\u001b[1;32m----> 1\u001b[0m \u001b[38;5;28mprint\u001b[39m(\u001b[43mbus2\u001b[49m\u001b[38;5;241m.\u001b[39mfare)\n",
      "\u001b[1;31mNameError\u001b[0m: name 'bus2' is not defined"
     ]
    }
   ],
   "source": [
    "print(bus2.fare)"
   ]
  },
  {
   "cell_type": "code",
   "execution_count": null,
   "id": "2224d6c8",
   "metadata": {},
   "outputs": [],
   "source": []
  }
 ],
 "metadata": {
  "kernelspec": {
   "display_name": "Python 3 (ipykernel)",
   "language": "python",
   "name": "python3"
  },
  "language_info": {
   "codemirror_mode": {
    "name": "ipython",
    "version": 3
   },
   "file_extension": ".py",
   "mimetype": "text/x-python",
   "name": "python",
   "nbconvert_exporter": "python",
   "pygments_lexer": "ipython3",
   "version": "3.11.2"
  }
 },
 "nbformat": 4,
 "nbformat_minor": 5
}
